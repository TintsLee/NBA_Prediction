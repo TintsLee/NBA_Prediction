{
 "cells": [
  {
   "cell_type": "code",
   "execution_count": 1,
   "metadata": {},
   "outputs": [],
   "source": [
    "import numpy as np\n",
    "import pandas as pd\n",
    "import matplotlib.pyplot as plt\n",
    "import keras\n",
    "from keras.layers import Dense\n",
    "from keras.models import Sequential\n",
    "from keras.optimizers import RMSprop, SGD\n",
    "from keras.callbacks import EarlyStopping\n",
    "import tensorflow as tf\n",
    "from tensorflow.keras.layers import Input, Dense, RNN, LSTM\n",
    "from tensorflow.keras import Model\n",
    "from tensorflow.keras import regularizers\n",
    "import sklearn\n",
    "from sklearn import preprocessing\n",
    "from sklearn.model_selection import train_test_split\n",
    "from sklearn.preprocessing import StandardScaler\n",
    "from sklearn.decomposition import PCA\n",
    "from sklearn.cluster import KMeans\n",
    "from sklearn.metrics import r2_score\n",
    "\n"
   ]
  },
  {
   "cell_type": "code",
   "execution_count": null,
   "metadata": {},
   "outputs": [],
   "source": []
  },
  {
   "cell_type": "code",
   "execution_count": 2,
   "metadata": {},
   "outputs": [],
   "source": [
    "inputs = Input(shape=(31,))\n",
    "dense2 = Dense(7,activation='relu')(inputs)\n",
    "keras.layers.Dropout(0.68)\n",
    "output = Dense(1,activation='linear')(dense2)\n",
    "model = Model(inputs,output)\n",
    "model.compile(optimizer='adam',loss='mean_squared_error', metrics=['mse'])"
   ]
  },
  {
   "cell_type": "code",
   "execution_count": 3,
   "metadata": {},
   "outputs": [
    {
     "name": "stdout",
     "output_type": "stream",
     "text": [
      "(720, 36)\n"
     ]
    }
   ],
   "source": [
    "teamData = pd.read_csv(\"team_season.csv\")\n",
    "teamDataTrain = teamData.loc[437:1156, :]\n",
    "print(teamDataTrain.shape)"
   ]
  },
  {
   "cell_type": "code",
   "execution_count": 4,
   "metadata": {},
   "outputs": [
    {
     "name": "stdout",
     "output_type": "stream",
     "text": [
      "(30, 36)\n"
     ]
    }
   ],
   "source": [
    "teamDataT = pd.read_csv(\"team_season.csv\")\n",
    "teamDataTest = teamDataT.loc[1157:, :]\n",
    "print(teamDataTest.shape)"
   ]
  },
  {
   "cell_type": "code",
   "execution_count": 5,
   "metadata": {},
   "outputs": [
    {
     "data": {
      "text/html": [
       "<div>\n",
       "<style scoped>\n",
       "    .dataframe tbody tr th:only-of-type {\n",
       "        vertical-align: middle;\n",
       "    }\n",
       "\n",
       "    .dataframe tbody tr th {\n",
       "        vertical-align: top;\n",
       "    }\n",
       "\n",
       "    .dataframe thead th {\n",
       "        text-align: right;\n",
       "    }\n",
       "</style>\n",
       "<table border=\"1\" class=\"dataframe\">\n",
       "  <thead>\n",
       "    <tr style=\"text-align: right;\">\n",
       "      <th></th>\n",
       "      <th>o_fgm</th>\n",
       "      <th>o_fga</th>\n",
       "      <th>o_ftm</th>\n",
       "      <th>o_fta</th>\n",
       "      <th>o_oreb</th>\n",
       "      <th>o_dreb</th>\n",
       "      <th>o_reb</th>\n",
       "      <th>o_asts</th>\n",
       "      <th>o_pf</th>\n",
       "      <th>o_stl</th>\n",
       "      <th>...</th>\n",
       "      <th>d_reb</th>\n",
       "      <th>d_asts</th>\n",
       "      <th>d_pf</th>\n",
       "      <th>d_stl</th>\n",
       "      <th>d_to</th>\n",
       "      <th>d_blk</th>\n",
       "      <th>d_3pm</th>\n",
       "      <th>d_3pa</th>\n",
       "      <th>d_pts</th>\n",
       "      <th>pace</th>\n",
       "    </tr>\n",
       "  </thead>\n",
       "  <tbody>\n",
       "    <tr>\n",
       "      <th>1152</th>\n",
       "      <td>2842</td>\n",
       "      <td>6434</td>\n",
       "      <td>1409</td>\n",
       "      <td>2069</td>\n",
       "      <td>1028</td>\n",
       "      <td>2669</td>\n",
       "      <td>3697</td>\n",
       "      <td>1676</td>\n",
       "      <td>1667</td>\n",
       "      <td>661</td>\n",
       "      <td>...</td>\n",
       "      <td>3368</td>\n",
       "      <td>1419</td>\n",
       "      <td>1837</td>\n",
       "      <td>635</td>\n",
       "      <td>1194</td>\n",
       "      <td>381</td>\n",
       "      <td>311</td>\n",
       "      <td>951</td>\n",
       "      <td>6909</td>\n",
       "      <td>90.400002</td>\n",
       "    </tr>\n",
       "    <tr>\n",
       "      <th>1153</th>\n",
       "      <td>2939</td>\n",
       "      <td>6590</td>\n",
       "      <td>1363</td>\n",
       "      <td>1782</td>\n",
       "      <td>907</td>\n",
       "      <td>2318</td>\n",
       "      <td>3225</td>\n",
       "      <td>1782</td>\n",
       "      <td>1783</td>\n",
       "      <td>661</td>\n",
       "      <td>...</td>\n",
       "      <td>3498</td>\n",
       "      <td>1728</td>\n",
       "      <td>1658</td>\n",
       "      <td>629</td>\n",
       "      <td>1158</td>\n",
       "      <td>386</td>\n",
       "      <td>486</td>\n",
       "      <td>1394</td>\n",
       "      <td>8016</td>\n",
       "      <td>91.800003</td>\n",
       "    </tr>\n",
       "    <tr>\n",
       "      <th>1154</th>\n",
       "      <td>2654</td>\n",
       "      <td>6348</td>\n",
       "      <td>1237</td>\n",
       "      <td>1650</td>\n",
       "      <td>830</td>\n",
       "      <td>2419</td>\n",
       "      <td>3249</td>\n",
       "      <td>1574</td>\n",
       "      <td>1748</td>\n",
       "      <td>604</td>\n",
       "      <td>...</td>\n",
       "      <td>3696</td>\n",
       "      <td>1518</td>\n",
       "      <td>1619</td>\n",
       "      <td>590</td>\n",
       "      <td>1137</td>\n",
       "      <td>333</td>\n",
       "      <td>273</td>\n",
       "      <td>889</td>\n",
       "      <td>7253</td>\n",
       "      <td>88.800003</td>\n",
       "    </tr>\n",
       "    <tr>\n",
       "      <th>1155</th>\n",
       "      <td>2690</td>\n",
       "      <td>6171</td>\n",
       "      <td>1639</td>\n",
       "      <td>2197</td>\n",
       "      <td>1103</td>\n",
       "      <td>2272</td>\n",
       "      <td>3375</td>\n",
       "      <td>1671</td>\n",
       "      <td>2095</td>\n",
       "      <td>583</td>\n",
       "      <td>...</td>\n",
       "      <td>2999</td>\n",
       "      <td>1528</td>\n",
       "      <td>1999</td>\n",
       "      <td>666</td>\n",
       "      <td>1216</td>\n",
       "      <td>530</td>\n",
       "      <td>415</td>\n",
       "      <td>1209</td>\n",
       "      <td>7371</td>\n",
       "      <td>88.099998</td>\n",
       "    </tr>\n",
       "    <tr>\n",
       "      <th>1156</th>\n",
       "      <td>2758</td>\n",
       "      <td>6556</td>\n",
       "      <td>1579</td>\n",
       "      <td>2211</td>\n",
       "      <td>1115</td>\n",
       "      <td>2392</td>\n",
       "      <td>3507</td>\n",
       "      <td>1537</td>\n",
       "      <td>1712</td>\n",
       "      <td>733</td>\n",
       "      <td>...</td>\n",
       "      <td>3568</td>\n",
       "      <td>1966</td>\n",
       "      <td>1783</td>\n",
       "      <td>787</td>\n",
       "      <td>1269</td>\n",
       "      <td>446</td>\n",
       "      <td>424</td>\n",
       "      <td>1238</td>\n",
       "      <td>7990</td>\n",
       "      <td>94.099998</td>\n",
       "    </tr>\n",
       "  </tbody>\n",
       "</table>\n",
       "<p>5 rows × 31 columns</p>\n",
       "</div>"
      ],
      "text/plain": [
       "      o_fgm  o_fga  o_ftm  o_fta  o_oreb  o_dreb  o_reb  o_asts  o_pf  o_stl  \\\n",
       "1152   2842   6434   1409   2069    1028    2669   3697    1676  1667    661   \n",
       "1153   2939   6590   1363   1782     907    2318   3225    1782  1783    661   \n",
       "1154   2654   6348   1237   1650     830    2419   3249    1574  1748    604   \n",
       "1155   2690   6171   1639   2197    1103    2272   3375    1671  2095    583   \n",
       "1156   2758   6556   1579   2211    1115    2392   3507    1537  1712    733   \n",
       "\n",
       "      ...  d_reb  d_asts  d_pf  d_stl  d_to  d_blk  d_3pm  d_3pa  d_pts  \\\n",
       "1152  ...   3368    1419  1837    635  1194    381    311    951   6909   \n",
       "1153  ...   3498    1728  1658    629  1158    386    486   1394   8016   \n",
       "1154  ...   3696    1518  1619    590  1137    333    273    889   7253   \n",
       "1155  ...   2999    1528  1999    666  1216    530    415   1209   7371   \n",
       "1156  ...   3568    1966  1783    787  1269    446    424   1238   7990   \n",
       "\n",
       "           pace  \n",
       "1152  90.400002  \n",
       "1153  91.800003  \n",
       "1154  88.800003  \n",
       "1155  88.099998  \n",
       "1156  94.099998  \n",
       "\n",
       "[5 rows x 31 columns]"
      ]
     },
     "execution_count": 5,
     "metadata": {},
     "output_type": "execute_result"
    }
   ],
   "source": [
    "teamID = teamDataTrain['team'] \n",
    "x_Train = teamDataTrain.drop(columns=['team','year','leag','won','lost'])\n",
    "x_Train.tail()"
   ]
  },
  {
   "cell_type": "code",
   "execution_count": 6,
   "metadata": {},
   "outputs": [
    {
     "data": {
      "text/html": [
       "<div>\n",
       "<style scoped>\n",
       "    .dataframe tbody tr th:only-of-type {\n",
       "        vertical-align: middle;\n",
       "    }\n",
       "\n",
       "    .dataframe tbody tr th {\n",
       "        vertical-align: top;\n",
       "    }\n",
       "\n",
       "    .dataframe thead th {\n",
       "        text-align: right;\n",
       "    }\n",
       "</style>\n",
       "<table border=\"1\" class=\"dataframe\">\n",
       "  <thead>\n",
       "    <tr style=\"text-align: right;\">\n",
       "      <th></th>\n",
       "      <th>o_fgm</th>\n",
       "      <th>o_fga</th>\n",
       "      <th>o_ftm</th>\n",
       "      <th>o_fta</th>\n",
       "      <th>o_oreb</th>\n",
       "      <th>o_dreb</th>\n",
       "      <th>o_reb</th>\n",
       "      <th>o_asts</th>\n",
       "      <th>o_pf</th>\n",
       "      <th>o_stl</th>\n",
       "      <th>...</th>\n",
       "      <th>d_reb</th>\n",
       "      <th>d_asts</th>\n",
       "      <th>d_pf</th>\n",
       "      <th>d_stl</th>\n",
       "      <th>d_to</th>\n",
       "      <th>d_blk</th>\n",
       "      <th>d_3pm</th>\n",
       "      <th>d_3pa</th>\n",
       "      <th>d_pts</th>\n",
       "      <th>pace</th>\n",
       "    </tr>\n",
       "  </thead>\n",
       "  <tbody>\n",
       "    <tr>\n",
       "      <th>1157</th>\n",
       "      <td>2942</td>\n",
       "      <td>6672</td>\n",
       "      <td>1417</td>\n",
       "      <td>1994</td>\n",
       "      <td>1100</td>\n",
       "      <td>2335</td>\n",
       "      <td>3435</td>\n",
       "      <td>1614</td>\n",
       "      <td>2009</td>\n",
       "      <td>629</td>\n",
       "      <td>...</td>\n",
       "      <td>3385</td>\n",
       "      <td>1803</td>\n",
       "      <td>1777</td>\n",
       "      <td>716</td>\n",
       "      <td>1235</td>\n",
       "      <td>484</td>\n",
       "      <td>467</td>\n",
       "      <td>1232</td>\n",
       "      <td>8401</td>\n",
       "      <td>93.948730</td>\n",
       "    </tr>\n",
       "    <tr>\n",
       "      <th>1158</th>\n",
       "      <td>3046</td>\n",
       "      <td>6511</td>\n",
       "      <td>1775</td>\n",
       "      <td>2323</td>\n",
       "      <td>909</td>\n",
       "      <td>2438</td>\n",
       "      <td>3347</td>\n",
       "      <td>1810</td>\n",
       "      <td>2000</td>\n",
       "      <td>667</td>\n",
       "      <td>...</td>\n",
       "      <td>3466</td>\n",
       "      <td>1859</td>\n",
       "      <td>1937</td>\n",
       "      <td>714</td>\n",
       "      <td>1248</td>\n",
       "      <td>402</td>\n",
       "      <td>488</td>\n",
       "      <td>1370</td>\n",
       "      <td>8233</td>\n",
       "      <td>95.735855</td>\n",
       "    </tr>\n",
       "    <tr>\n",
       "      <th>1159</th>\n",
       "      <td>2849</td>\n",
       "      <td>6592</td>\n",
       "      <td>1536</td>\n",
       "      <td>2048</td>\n",
       "      <td>1001</td>\n",
       "      <td>2591</td>\n",
       "      <td>3592</td>\n",
       "      <td>1743</td>\n",
       "      <td>2028</td>\n",
       "      <td>576</td>\n",
       "      <td>...</td>\n",
       "      <td>3503</td>\n",
       "      <td>1715</td>\n",
       "      <td>1914</td>\n",
       "      <td>685</td>\n",
       "      <td>1272</td>\n",
       "      <td>434</td>\n",
       "      <td>416</td>\n",
       "      <td>1245</td>\n",
       "      <td>7658</td>\n",
       "      <td>96.283737</td>\n",
       "    </tr>\n",
       "    <tr>\n",
       "      <th>1160</th>\n",
       "      <td>2961</td>\n",
       "      <td>6859</td>\n",
       "      <td>1487</td>\n",
       "      <td>2096</td>\n",
       "      <td>1083</td>\n",
       "      <td>2335</td>\n",
       "      <td>3418</td>\n",
       "      <td>1794</td>\n",
       "      <td>1893</td>\n",
       "      <td>695</td>\n",
       "      <td>...</td>\n",
       "      <td>3545</td>\n",
       "      <td>1768</td>\n",
       "      <td>1857</td>\n",
       "      <td>624</td>\n",
       "      <td>1304</td>\n",
       "      <td>446</td>\n",
       "      <td>442</td>\n",
       "      <td>1224</td>\n",
       "      <td>8220</td>\n",
       "      <td>96.201630</td>\n",
       "    </tr>\n",
       "    <tr>\n",
       "      <th>1161</th>\n",
       "      <td>2990</td>\n",
       "      <td>6687</td>\n",
       "      <td>1634</td>\n",
       "      <td>2174</td>\n",
       "      <td>1117</td>\n",
       "      <td>2352</td>\n",
       "      <td>3469</td>\n",
       "      <td>1851</td>\n",
       "      <td>1850</td>\n",
       "      <td>654</td>\n",
       "      <td>...</td>\n",
       "      <td>3262</td>\n",
       "      <td>1737</td>\n",
       "      <td>1770</td>\n",
       "      <td>549</td>\n",
       "      <td>1226</td>\n",
       "      <td>419</td>\n",
       "      <td>422</td>\n",
       "      <td>1122</td>\n",
       "      <td>7849</td>\n",
       "      <td>93.840187</td>\n",
       "    </tr>\n",
       "  </tbody>\n",
       "</table>\n",
       "<p>5 rows × 31 columns</p>\n",
       "</div>"
      ],
      "text/plain": [
       "      o_fgm  o_fga  o_ftm  o_fta  o_oreb  o_dreb  o_reb  o_asts  o_pf  o_stl  \\\n",
       "1157   2942   6672   1417   1994    1100    2335   3435    1614  2009    629   \n",
       "1158   3046   6511   1775   2323     909    2438   3347    1810  2000    667   \n",
       "1159   2849   6592   1536   2048    1001    2591   3592    1743  2028    576   \n",
       "1160   2961   6859   1487   2096    1083    2335   3418    1794  1893    695   \n",
       "1161   2990   6687   1634   2174    1117    2352   3469    1851  1850    654   \n",
       "\n",
       "      ...  d_reb  d_asts  d_pf  d_stl  d_to  d_blk  d_3pm  d_3pa  d_pts  \\\n",
       "1157  ...   3385    1803  1777    716  1235    484    467   1232   8401   \n",
       "1158  ...   3466    1859  1937    714  1248    402    488   1370   8233   \n",
       "1159  ...   3503    1715  1914    685  1272    434    416   1245   7658   \n",
       "1160  ...   3545    1768  1857    624  1304    446    442   1224   8220   \n",
       "1161  ...   3262    1737  1770    549  1226    419    422   1122   7849   \n",
       "\n",
       "           pace  \n",
       "1157  93.948730  \n",
       "1158  95.735855  \n",
       "1159  96.283737  \n",
       "1160  96.201630  \n",
       "1161  93.840187  \n",
       "\n",
       "[5 rows x 31 columns]"
      ]
     },
     "execution_count": 6,
     "metadata": {},
     "output_type": "execute_result"
    }
   ],
   "source": [
    "teamID2 = teamDataTest['team'] \n",
    "x_Test = teamDataTest.drop(columns=['team','year','leag','won','lost'])\n",
    "x_Test.head()"
   ]
  },
  {
   "cell_type": "code",
   "execution_count": 7,
   "metadata": {},
   "outputs": [],
   "source": [
    "x_Train['target']  = teamData['won']/(teamData['won']+teamData['lost'])"
   ]
  },
  {
   "cell_type": "code",
   "execution_count": 8,
   "metadata": {},
   "outputs": [
    {
     "name": "stdout",
     "output_type": "stream",
     "text": [
      "<class 'pandas.core.frame.DataFrame'>\n"
     ]
    }
   ],
   "source": [
    "x_Test['target']  = teamData['won']/(teamData['won']+teamData['lost'])\n",
    "x_Test.head()\n",
    "print(type(x_Test))"
   ]
  },
  {
   "cell_type": "code",
   "execution_count": 9,
   "metadata": {},
   "outputs": [],
   "source": [
    "msk = np.random.rand(len(x_Train)) < 0.8\n",
    "train = x_Train[msk]\n",
    "test = x_Train[~msk]   "
   ]
  },
  {
   "cell_type": "code",
   "execution_count": 10,
   "metadata": {},
   "outputs": [],
   "source": [
    "msk = np.random.rand(len(x_Test)) < 0.8\n",
    "train2 = x_Test[msk]\n",
    "test2 = x_Test[~msk] "
   ]
  },
  {
   "cell_type": "code",
   "execution_count": 11,
   "metadata": {},
   "outputs": [],
   "source": [
    "#X_train,X_test,y_train,y_test = train_test_split(x_Train,x_Test,test_size = 0.2)"
   ]
  },
  {
   "cell_type": "code",
   "execution_count": 12,
   "metadata": {},
   "outputs": [],
   "source": [
    "#xNump = x.to_numpy()"
   ]
  },
  {
   "cell_type": "code",
   "execution_count": 13,
   "metadata": {},
   "outputs": [],
   "source": [
    "#X_features = xNump[:,0:-1]\n",
    "\n",
    "#Y_features = xNump[:,31]\n",
    "\n"
   ]
  },
  {
   "cell_type": "code",
   "execution_count": 14,
   "metadata": {},
   "outputs": [],
   "source": [
    "X_features = preprocessing.scale(train)\n",
    "Y_features = preprocessing.scale(test)\n",
    "\n",
    "X_features2 = preprocessing.scale(train2)\n",
    "Y_features2 = preprocessing.scale(test2)"
   ]
  },
  {
   "cell_type": "code",
   "execution_count": 15,
   "metadata": {
    "scrolled": true
   },
   "outputs": [],
   "source": [
    "#model.fit(X_features,Y_features,validation_split=0.20,epochs =30, shuffle= True)"
   ]
  },
  {
   "cell_type": "code",
   "execution_count": 16,
   "metadata": {},
   "outputs": [],
   "source": [
    "#testTeamA = teamData.loc[438:438, :]\n",
    "#teamID = testTeamA['team'] \n",
    "#teamA = testTeamA.drop(columns=['team','year','leag','won','lost'])\n",
    "#teamA"
   ]
  },
  {
   "cell_type": "code",
   "execution_count": null,
   "metadata": {},
   "outputs": [],
   "source": []
  },
  {
   "cell_type": "code",
   "execution_count": 18,
   "metadata": {},
   "outputs": [
    {
     "ename": "ValueError",
     "evalue": "Data cardinality is ambiguous:\n  x sizes: 516\n  y sizes: 27\nPlease provide data which shares the same first dimension.",
     "output_type": "error",
     "traceback": [
      "\u001b[1;31m---------------------------------------------------------------------------\u001b[0m",
      "\u001b[1;31mValueError\u001b[0m                                Traceback (most recent call last)",
      "\u001b[1;32m<ipython-input-18-8e0562ed604f>\u001b[0m in \u001b[0;36m<module>\u001b[1;34m\u001b[0m\n\u001b[0;32m      1\u001b[0m \u001b[0mlearnR\u001b[0m \u001b[1;33m=\u001b[0m \u001b[1;33m[\u001b[0m\u001b[1;36m100\u001b[0m\u001b[1;33m]\u001b[0m\u001b[1;33m\u001b[0m\u001b[1;33m\u001b[0m\u001b[0m\n\u001b[0;32m      2\u001b[0m \u001b[1;32mfor\u001b[0m \u001b[0mi\u001b[0m \u001b[1;32min\u001b[0m \u001b[0mlearnR\u001b[0m\u001b[1;33m:\u001b[0m\u001b[1;33m\u001b[0m\u001b[1;33m\u001b[0m\u001b[0m\n\u001b[1;32m----> 3\u001b[1;33m     \u001b[0mhistory\u001b[0m \u001b[1;33m=\u001b[0m\u001b[0mmodel\u001b[0m\u001b[1;33m.\u001b[0m\u001b[0mfit\u001b[0m\u001b[1;33m(\u001b[0m\u001b[0mX_features\u001b[0m\u001b[1;33m,\u001b[0m\u001b[0mX_features2\u001b[0m\u001b[1;33m,\u001b[0m\u001b[0mvalidation_split\u001b[0m\u001b[1;33m=\u001b[0m\u001b[1;36m0.10\u001b[0m\u001b[1;33m,\u001b[0m\u001b[0mepochs\u001b[0m \u001b[1;33m=\u001b[0m\u001b[1;36m30\u001b[0m\u001b[1;33m,\u001b[0m \u001b[0mshuffle\u001b[0m\u001b[1;33m=\u001b[0m \u001b[1;32mTrue\u001b[0m\u001b[1;33m,\u001b[0m \u001b[0mverbose\u001b[0m\u001b[1;33m=\u001b[0m\u001b[1;36m0\u001b[0m\u001b[1;33m)\u001b[0m\u001b[1;33m\u001b[0m\u001b[1;33m\u001b[0m\u001b[0m\n\u001b[0m\u001b[0;32m      4\u001b[0m     \u001b[0mhistory_dict\u001b[0m \u001b[1;33m=\u001b[0m \u001b[0mhistory\u001b[0m\u001b[1;33m.\u001b[0m\u001b[0mhistory\u001b[0m\u001b[1;33m\u001b[0m\u001b[1;33m\u001b[0m\u001b[0m\n\u001b[0;32m      5\u001b[0m     \u001b[0mloss_values\u001b[0m \u001b[1;33m=\u001b[0m \u001b[0mhistory_dict\u001b[0m\u001b[1;33m[\u001b[0m\u001b[1;34m'loss'\u001b[0m\u001b[1;33m]\u001b[0m\u001b[1;33m\u001b[0m\u001b[1;33m\u001b[0m\u001b[0m\n",
      "\u001b[1;32m~\\anaconda3\\envs\\TensKeras\\lib\\site-packages\\tensorflow\\python\\keras\\engine\\training.py\u001b[0m in \u001b[0;36m_method_wrapper\u001b[1;34m(self, *args, **kwargs)\u001b[0m\n\u001b[0;32m    106\u001b[0m   \u001b[1;32mdef\u001b[0m \u001b[0m_method_wrapper\u001b[0m\u001b[1;33m(\u001b[0m\u001b[0mself\u001b[0m\u001b[1;33m,\u001b[0m \u001b[1;33m*\u001b[0m\u001b[0margs\u001b[0m\u001b[1;33m,\u001b[0m \u001b[1;33m**\u001b[0m\u001b[0mkwargs\u001b[0m\u001b[1;33m)\u001b[0m\u001b[1;33m:\u001b[0m\u001b[1;33m\u001b[0m\u001b[1;33m\u001b[0m\u001b[0m\n\u001b[0;32m    107\u001b[0m     \u001b[1;32mif\u001b[0m \u001b[1;32mnot\u001b[0m \u001b[0mself\u001b[0m\u001b[1;33m.\u001b[0m\u001b[0m_in_multi_worker_mode\u001b[0m\u001b[1;33m(\u001b[0m\u001b[1;33m)\u001b[0m\u001b[1;33m:\u001b[0m  \u001b[1;31m# pylint: disable=protected-access\u001b[0m\u001b[1;33m\u001b[0m\u001b[1;33m\u001b[0m\u001b[0m\n\u001b[1;32m--> 108\u001b[1;33m       \u001b[1;32mreturn\u001b[0m \u001b[0mmethod\u001b[0m\u001b[1;33m(\u001b[0m\u001b[0mself\u001b[0m\u001b[1;33m,\u001b[0m \u001b[1;33m*\u001b[0m\u001b[0margs\u001b[0m\u001b[1;33m,\u001b[0m \u001b[1;33m**\u001b[0m\u001b[0mkwargs\u001b[0m\u001b[1;33m)\u001b[0m\u001b[1;33m\u001b[0m\u001b[1;33m\u001b[0m\u001b[0m\n\u001b[0m\u001b[0;32m    109\u001b[0m \u001b[1;33m\u001b[0m\u001b[0m\n\u001b[0;32m    110\u001b[0m     \u001b[1;31m# Running inside `run_distribute_coordinator` already.\u001b[0m\u001b[1;33m\u001b[0m\u001b[1;33m\u001b[0m\u001b[1;33m\u001b[0m\u001b[0m\n",
      "\u001b[1;32m~\\anaconda3\\envs\\TensKeras\\lib\\site-packages\\tensorflow\\python\\keras\\engine\\training.py\u001b[0m in \u001b[0;36mfit\u001b[1;34m(self, x, y, batch_size, epochs, verbose, callbacks, validation_split, validation_data, shuffle, class_weight, sample_weight, initial_epoch, steps_per_epoch, validation_steps, validation_batch_size, validation_freq, max_queue_size, workers, use_multiprocessing)\u001b[0m\n\u001b[0;32m   1047\u001b[0m          \u001b[0mtraining_utils\u001b[0m\u001b[1;33m.\u001b[0m\u001b[0mRespectCompiledTrainableState\u001b[0m\u001b[1;33m(\u001b[0m\u001b[0mself\u001b[0m\u001b[1;33m)\u001b[0m\u001b[1;33m:\u001b[0m\u001b[1;33m\u001b[0m\u001b[1;33m\u001b[0m\u001b[0m\n\u001b[0;32m   1048\u001b[0m       \u001b[1;31m# Creates a `tf.data.Dataset` and handles batch and epoch iteration.\u001b[0m\u001b[1;33m\u001b[0m\u001b[1;33m\u001b[0m\u001b[1;33m\u001b[0m\u001b[0m\n\u001b[1;32m-> 1049\u001b[1;33m       data_handler = data_adapter.DataHandler(\n\u001b[0m\u001b[0;32m   1050\u001b[0m           \u001b[0mx\u001b[0m\u001b[1;33m=\u001b[0m\u001b[0mx\u001b[0m\u001b[1;33m,\u001b[0m\u001b[1;33m\u001b[0m\u001b[1;33m\u001b[0m\u001b[0m\n\u001b[0;32m   1051\u001b[0m           \u001b[0my\u001b[0m\u001b[1;33m=\u001b[0m\u001b[0my\u001b[0m\u001b[1;33m,\u001b[0m\u001b[1;33m\u001b[0m\u001b[1;33m\u001b[0m\u001b[0m\n",
      "\u001b[1;32m~\\anaconda3\\envs\\TensKeras\\lib\\site-packages\\tensorflow\\python\\keras\\engine\\data_adapter.py\u001b[0m in \u001b[0;36m__init__\u001b[1;34m(self, x, y, sample_weight, batch_size, steps_per_epoch, initial_epoch, epochs, shuffle, class_weight, max_queue_size, workers, use_multiprocessing, model, steps_per_execution)\u001b[0m\n\u001b[0;32m   1103\u001b[0m \u001b[1;33m\u001b[0m\u001b[0m\n\u001b[0;32m   1104\u001b[0m     \u001b[0madapter_cls\u001b[0m \u001b[1;33m=\u001b[0m \u001b[0mselect_data_adapter\u001b[0m\u001b[1;33m(\u001b[0m\u001b[0mx\u001b[0m\u001b[1;33m,\u001b[0m \u001b[0my\u001b[0m\u001b[1;33m)\u001b[0m\u001b[1;33m\u001b[0m\u001b[1;33m\u001b[0m\u001b[0m\n\u001b[1;32m-> 1105\u001b[1;33m     self._adapter = adapter_cls(\n\u001b[0m\u001b[0;32m   1106\u001b[0m         \u001b[0mx\u001b[0m\u001b[1;33m,\u001b[0m\u001b[1;33m\u001b[0m\u001b[1;33m\u001b[0m\u001b[0m\n\u001b[0;32m   1107\u001b[0m         \u001b[0my\u001b[0m\u001b[1;33m,\u001b[0m\u001b[1;33m\u001b[0m\u001b[1;33m\u001b[0m\u001b[0m\n",
      "\u001b[1;32m~\\anaconda3\\envs\\TensKeras\\lib\\site-packages\\tensorflow\\python\\keras\\engine\\data_adapter.py\u001b[0m in \u001b[0;36m__init__\u001b[1;34m(self, x, y, sample_weights, sample_weight_modes, batch_size, epochs, steps, shuffle, **kwargs)\u001b[0m\n\u001b[0;32m    280\u001b[0m             label, \", \".join(str(i.shape[0]) for i in nest.flatten(data)))\n\u001b[0;32m    281\u001b[0m       \u001b[0mmsg\u001b[0m \u001b[1;33m+=\u001b[0m \u001b[1;34m\"Please provide data which shares the same first dimension.\"\u001b[0m\u001b[1;33m\u001b[0m\u001b[1;33m\u001b[0m\u001b[0m\n\u001b[1;32m--> 282\u001b[1;33m       \u001b[1;32mraise\u001b[0m \u001b[0mValueError\u001b[0m\u001b[1;33m(\u001b[0m\u001b[0mmsg\u001b[0m\u001b[1;33m)\u001b[0m\u001b[1;33m\u001b[0m\u001b[1;33m\u001b[0m\u001b[0m\n\u001b[0m\u001b[0;32m    283\u001b[0m     \u001b[0mnum_samples\u001b[0m \u001b[1;33m=\u001b[0m \u001b[0mnum_samples\u001b[0m\u001b[1;33m.\u001b[0m\u001b[0mpop\u001b[0m\u001b[1;33m(\u001b[0m\u001b[1;33m)\u001b[0m\u001b[1;33m\u001b[0m\u001b[1;33m\u001b[0m\u001b[0m\n\u001b[0;32m    284\u001b[0m \u001b[1;33m\u001b[0m\u001b[0m\n",
      "\u001b[1;31mValueError\u001b[0m: Data cardinality is ambiguous:\n  x sizes: 516\n  y sizes: 27\nPlease provide data which shares the same first dimension."
     ]
    }
   ],
   "source": [
    "learnR = [100]\n",
    "for i in learnR:\n",
    "    history =model.fit(X_features,X_features2,validation_split=0.10,epochs =30, shuffle= True, verbose=0)\n",
    "    history_dict = history.history\n",
    "    loss_values = history_dict['loss']\n",
    "    val_loss_values = history_dict['val_loss']\n",
    "    plt.figure()\n",
    "    plt.plot(loss_values,'bo',label='training_loss')\n",
    "    plt.plot(val_loss_values,'r',label='val training loss')\n"
   ]
  },
  {
   "cell_type": "code",
   "execution_count": null,
   "metadata": {},
   "outputs": [],
   "source": [
    "print(\"score on x_features is:\\t{:0.3f}\".format(r2_score()))"
   ]
  },
  {
   "cell_type": "code",
   "execution_count": null,
   "metadata": {},
   "outputs": [],
   "source": [
    "testTeamA = teamData.loc[438:438, :]"
   ]
  },
  {
   "cell_type": "code",
   "execution_count": null,
   "metadata": {},
   "outputs": [],
   "source": [
    "teamID = testTeamA['team'] \n",
    "teamA = testTeamA.drop(columns=['team','year','leag','won','lost'])\n",
    "teamA"
   ]
  },
  {
   "cell_type": "code",
   "execution_count": null,
   "metadata": {},
   "outputs": [],
   "source": [
    "teamApred = model.predict(teamA)\n",
    "print(\"score on x_features is:\\t{:0.3f}\".format(r2_score(teamApred)))"
   ]
  },
  {
   "cell_type": "code",
   "execution_count": null,
   "metadata": {},
   "outputs": [],
   "source": [
    "testTeamB = teamData.loc[439:439, :]\n",
    "teamID = testTeamB['team'] \n",
    "teamB = testTeamB.drop(columns=['team','year','leag','won','lost'])\n",
    "print(model.predict(teamB))"
   ]
  },
  {
   "cell_type": "code",
   "execution_count": null,
   "metadata": {},
   "outputs": [],
   "source": []
  }
 ],
 "metadata": {
  "kernelspec": {
   "display_name": "Python 3",
   "language": "python",
   "name": "python3"
  },
  "language_info": {
   "codemirror_mode": {
    "name": "ipython",
    "version": 3
   },
   "file_extension": ".py",
   "mimetype": "text/x-python",
   "name": "python",
   "nbconvert_exporter": "python",
   "pygments_lexer": "ipython3",
   "version": "3.8.5"
  }
 },
 "nbformat": 4,
 "nbformat_minor": 4
}
