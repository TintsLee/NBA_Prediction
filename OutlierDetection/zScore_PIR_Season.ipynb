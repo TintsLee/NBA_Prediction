{
  "nbformat": 4,
  "nbformat_minor": 0,
  "metadata": {
    "colab": {
      "name": "zScore_PIR_Season.ipynb",
      "provenance": [],
      "collapsed_sections": []
    },
    "kernelspec": {
      "name": "python3",
      "display_name": "Python 3"
    }
  },
  "cells": [
    {
      "cell_type": "code",
      "metadata": {
        "id": "HYp06MoQpOx0"
      },
      "source": [
        "%matplotlib inline\r\n",
        "import pandas as pd\r\n",
        "from sklearn.cluster import KMeans\r\n",
        "import numpy as np"
      ],
      "execution_count": 11,
      "outputs": []
    },
    {
      "cell_type": "code",
      "metadata": {
        "id": "nvD-HadMpiBQ"
      },
      "source": [
        "data = pd.read_csv(\"/content/drive/MyDrive/player_regular_season_career.csv\")\r\n",
        "playerNames = data['firstname'].map(str) + ' ' + data['lastname'].map(str)\r\n",
        "PIR = (data[\"pts\"]+data['reb']+data['asts']+data['stl']+data['blk']+data['pf'])-((data['fga']-data['fgm'])+(data['fta']-data['ftm'])+data['turnover']+data['dreb']+0)"
      ],
      "execution_count": 12,
      "outputs": []
    },
    {
      "cell_type": "code",
      "metadata": {
        "colab": {
          "base_uri": "https://localhost:8080/"
        },
        "id": "VTw7k5eQqQG-",
        "outputId": "03f97dff-a312-47cb-cbd3-8c3c921f3764"
      },
      "source": [
        "outliers = []\r\n",
        "threshold = 3\r\n",
        "mean = np.mean(PIR)\r\n",
        "std = np.std(PIR)\r\n",
        "\r\n",
        "for i in PIR:\r\n",
        "  z_score = (i - mean)/std\r\n",
        "  if np.abs(z_score) > threshold:\r\n",
        "    outliers.append(i)\r\n",
        "print(outliers)"
      ],
      "execution_count": 14,
      "outputs": [
        {
          "output_type": "stream",
          "text": [
            "[43510, 17842, 17919, 25215, 18941, 27752, 30480, 19287, 21763, 17076, 21267, 17400, 45440, 17819, 19511, 17894, 18406, 17092, 17412, 20884, 17313, 19804, 17154, 23567, 23607, 18274, 22843, 19418, 17369, 17359, 19712, 18660, 24200, 17436, 17879, 28160, 28548, 17569, 23950, 17843, 18138, 17053, 23461, 29041, 19001, 17134, 22448, 25392, 32833, 25680, 18069, 17838, 22371, 17136, 18944, 18023, 28259, 21592, 25064, 22614, 27167, 20813, 17774, 17957, 35602, 17030, 21916, 33125, 25442, 17032, 18663, 19558, 32091, 18710, 20243, 19009, 23673, 17312, 21109, 21475, 27602, 23502, 20674, 19352, 17321]\n"
          ],
          "name": "stdout"
        }
      ]
    },
    {
      "cell_type": "code",
      "metadata": {
        "colab": {
          "base_uri": "https://localhost:8080/"
        },
        "id": "n0BVBUNS6lIM",
        "outputId": "4353250a-d57a-43f7-83a4-3d2f1ed96ba2"
      },
      "source": [
        "outliersNames = []\r\n",
        "for i in range(len(PIR)):\r\n",
        "  if PIR[i] in outliers:\r\n",
        "    outliersNames.append(playerNames[i])\r\n",
        "print(outliersNames)"
      ],
      "execution_count": 15,
      "outputs": [
        {
          "output_type": "stream",
          "text": [
            "['Kareem Abdul-jabbar', 'Nate Archibald', 'Paul Arizin', 'Charles Barkley', 'Rick Barry', 'Elgin Baylor', 'Walt Bellamy', 'Dave Bing', 'Larry Bird', 'Bob Boozer', 'Bill Bridges', 'Tom Chambers', 'Wilt Chamberlain', 'Maurice Cheeks', 'Bob Cousy', 'Dave Cowens', 'Terry Cummings', 'Billy Cunningham', 'Bob Dandridge', 'Adrian Dantley', 'Walter Davis', 'Dave Debusschere', 'Vlade Divac', 'Clyde Drexler', 'Alex English', 'Julius Erving', 'Patrick Ewing', 'Walt Frazier', 'George Gervin', 'Artis Gilmore', 'Gail Goodrich', 'Johnny Green', 'Hal Greer', 'Richie Guerin', 'Derek Harper', 'John Havlicek', 'Elvin Hayes', 'Jeff Hornacek', 'Bailey Howell', 'Lou Hudson', 'Mark Jackson', 'Dennis Johnson', 'Magic Johnson', 'Michael Jordan', 'Johnny Kerr', 'Sam Lacey', 'Bob Lanier', 'Jerry Lucas', 'Karl Malone', 'Moses Malone', 'Bob Mcadoo', 'Kevin Mchale', 'Reggie Miller', 'Chris Mullin', 'Calvin Murphy', 'Larry Nance', 'Hakeem Olajuwon', \"Shaquille O'neal\", 'Robert Parish', 'Gary Payton', 'Bob Pettit', 'Scottie Pippen', 'Terry Porter', 'Willis Reed', 'Oscar Robertson', 'Clifford Robinson', 'David Robinson', 'Bill Russell', 'Dolph Schayes', 'Detlef Schrempf', 'Jack Sikma', 'Paul Silas', 'John Stockton', 'Reggie Theus', 'Isiah Thomas', 'Otis Thorpe', 'Nate Thurmond', 'Jack Twyman', 'Wes Unseld', 'Chet Walker', 'Jerry West', 'Lenny Wilkens', 'Dominique Wilkins', 'Buck Williams', 'Kevin Willis']\n"
          ],
          "name": "stdout"
        }
      ]
    },
    {
      "cell_type": "code",
      "metadata": {
        "id": "xdYEgyGb70zn"
      },
      "source": [
        "dfResults = pd.DataFrame(outliersNames)\r\n",
        "dfResults.to_csv('Outliers_zScorePIR_Season.csv', index=False)"
      ],
      "execution_count": 16,
      "outputs": []
    },
    {
      "cell_type": "code",
      "metadata": {
        "id": "WtXmALSGBzSA"
      },
      "source": [
        ""
      ],
      "execution_count": null,
      "outputs": []
    }
  ]
}