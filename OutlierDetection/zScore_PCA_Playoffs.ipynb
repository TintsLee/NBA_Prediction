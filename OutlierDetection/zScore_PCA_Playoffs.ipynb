{
  "nbformat": 4,
  "nbformat_minor": 0,
  "metadata": {
    "colab": {
      "name": "zScore_PCA_Playoffs.ipynb",
      "provenance": []
    },
    "kernelspec": {
      "name": "python3",
      "display_name": "Python 3"
    }
  },
  "cells": [
    {
      "cell_type": "code",
      "metadata": {
        "id": "NX9jV9RYrBvN"
      },
      "source": [
        "import pandas as pd\r\n",
        "from sklearn.preprocessing import StandardScaler\r\n",
        "from sklearn.decomposition import PCA\r\n",
        "import numpy as np"
      ],
      "execution_count": 1,
      "outputs": []
    },
    {
      "cell_type": "code",
      "metadata": {
        "id": "kGtvJcgur00w"
      },
      "source": [
        "p_s_career = pd.read_csv(\"/content/drive/MyDrive/player_playoffs_career.csv\")\r\n",
        "playerNames = p_s_career['firstname'].map(str) + ' ' + p_s_career['lastname'].map(str)\r\n",
        "x = p_s_career.drop(columns=['ilkid','firstname','lastname','leag']) "
      ],
      "execution_count": 2,
      "outputs": []
    },
    {
      "cell_type": "code",
      "metadata": {
        "id": "QURo1DBxsG9v"
      },
      "source": [
        "sc = StandardScaler()\r\n",
        "x = sc.fit_transform(x)"
      ],
      "execution_count": 3,
      "outputs": []
    },
    {
      "cell_type": "code",
      "metadata": {
        "colab": {
          "base_uri": "https://localhost:8080/"
        },
        "id": "yIapLTZesyui",
        "outputId": "792e5e96-eac6-4d1b-88f8-07e7ee83642b"
      },
      "source": [
        "pca = PCA(n_components=1)\r\n",
        "x_PCA = pca.fit_transform(x)\r\n",
        "pca.explained_variance_ratio_"
      ],
      "execution_count": 4,
      "outputs": [
        {
          "output_type": "execute_result",
          "data": {
            "text/plain": [
              "array([0.725813])"
            ]
          },
          "metadata": {
            "tags": []
          },
          "execution_count": 4
        }
      ]
    },
    {
      "cell_type": "code",
      "metadata": {
        "colab": {
          "base_uri": "https://localhost:8080/"
        },
        "id": "oeiQyPAys1ok",
        "outputId": "1ead2946-af01-430c-dbd3-bb9912cae076"
      },
      "source": [
        "outliers = []\r\n",
        "threshold = 3\r\n",
        "mean = np.mean(x_PCA)\r\n",
        "std = np.std(x_PCA)\r\n",
        "\r\n",
        "for i in x_PCA:\r\n",
        "  z_score = (i - mean)/std\r\n",
        "  if np.abs(z_score) > threshold:\r\n",
        "    outliers.append(i)\r\n",
        "print(outliers)"
      ],
      "execution_count": 5,
      "outputs": [
        {
          "output_type": "stream",
          "text": [
            "[array([28.51812598]), array([13.29364455]), array([18.83314712]), array([12.87779277]), array([24.50106562]), array([14.97514273]), array([16.090325]), array([11.90519744]), array([12.88352229]), array([11.28969762]), array([20.14344717]), array([15.86385629]), array([16.61421353]), array([17.68042466]), array([15.05159781]), array([13.99876852]), array([12.45585101]), array([18.66826973]), array([18.44073614]), array([11.08532508]), array([27.12183961]), array([30.29094194]), array([10.84215649]), array([27.8423287]), array([11.77636063]), array([18.05363847]), array([16.49441574]), array([13.76170299]), array([23.13397843]), array([27.48843648]), array([19.36488133]), array([12.99325417]), array([13.87972423]), array([28.35937304]), array([11.06834404]), array([10.60421199]), array([15.89726159]), array([13.30157233]), array([14.56082206]), array([14.2426922]), array([19.717039]), array([14.15674038]), array([15.52172393]), array([14.425451])]\n"
          ],
          "name": "stdout"
        }
      ]
    },
    {
      "cell_type": "code",
      "metadata": {
        "colab": {
          "base_uri": "https://localhost:8080/"
        },
        "id": "IEiDKPWr8OZp",
        "outputId": "2c7112be-e0f4-4a2a-9b3b-613f2402eefa"
      },
      "source": [
        "outliersNames = []\r\n",
        "for i in range(len(x_PCA)):\r\n",
        "  if x_PCA[i] in outliers:\r\n",
        "    outliersNames.append(playerNames[i])\r\n",
        "print(outliersNames)"
      ],
      "execution_count": 6,
      "outputs": [
        {
          "output_type": "stream",
          "text": [
            "['Kareem Abdul-jabbar', 'Danny Ainge', 'Charles Barkley', 'Elgin Baylor', 'Larry Bird', 'Kobe Bryant', 'Wilt Chamberlain', 'Maurice Cheeks', 'Michael Cooper', 'Vlade Divac', 'Clyde Drexler', 'Tim Duncan', 'Julius Erving', 'Patrick Ewing', 'Horace Grant', 'John Havlicek', 'Jeff Hornacek', 'Robert Horry', 'Dennis Johnson', 'Kevin Johnson', 'Magic Johnson', 'Michael Jordan', 'Dan Majerle', 'Karl Malone', 'Moses Malone', 'Kevin Mchale', 'Reggie Miller', 'Charles Oakley', 'Hakeem Olajuwon', \"Shaquille O'neal\", 'Robert Parish', 'Gary Payton', 'Sam Perkins', 'Scottie Pippen', 'Terry Porter', 'Clifford Robinson', 'David Robinson', 'Dennis Rodman', 'Bill Russell', 'Byron Scott', 'John Stockton', 'Isiah Thomas', 'Jerry West', 'James Worthy']\n"
          ],
          "name": "stdout"
        }
      ]
    },
    {
      "cell_type": "code",
      "metadata": {
        "id": "3Vex1a-f8vdz"
      },
      "source": [
        "dfResults = pd.DataFrame(outliersNames)\r\n",
        "dfResults.to_csv('Outliers_zScorePCA_Playoffs.csv', index=False)"
      ],
      "execution_count": 7,
      "outputs": []
    },
    {
      "cell_type": "code",
      "metadata": {
        "id": "dDkHz7fPCSnh"
      },
      "source": [
        ""
      ],
      "execution_count": null,
      "outputs": []
    }
  ]
}