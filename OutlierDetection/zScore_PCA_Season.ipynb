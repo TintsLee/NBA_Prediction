{
  "nbformat": 4,
  "nbformat_minor": 0,
  "metadata": {
    "colab": {
      "name": "zScore_PCA_Season.ipynb",
      "provenance": [],
      "collapsed_sections": []
    },
    "kernelspec": {
      "name": "python3",
      "display_name": "Python 3"
    }
  },
  "cells": [
    {
      "cell_type": "code",
      "metadata": {
        "id": "OKe157bQlpx4"
      },
      "source": [
        "import pandas as pd\r\n",
        "from sklearn.preprocessing import StandardScaler\r\n",
        "from sklearn.decomposition import PCA\r\n",
        "import numpy as np"
      ],
      "execution_count": 1,
      "outputs": []
    },
    {
      "cell_type": "code",
      "metadata": {
        "id": "Vhi18quknAtf"
      },
      "source": [
        "p_s_career = pd.read_csv(\"/content/drive/MyDrive/player_regular_season_career.csv\")\r\n",
        "playerNames = p_s_career['firstname'].map(str) + ' ' + p_s_career['lastname'].map(str)\r\n",
        "x = p_s_career.drop(columns=['ilkid','firstname','lastname','leag']) "
      ],
      "execution_count": 2,
      "outputs": []
    },
    {
      "cell_type": "code",
      "metadata": {
        "id": "V05FOHQsnhlz"
      },
      "source": [
        "sc = StandardScaler()\r\n",
        "x = sc.fit_transform(x)"
      ],
      "execution_count": 3,
      "outputs": []
    },
    {
      "cell_type": "code",
      "metadata": {
        "colab": {
          "base_uri": "https://localhost:8080/"
        },
        "id": "xuqkIoMqoxUu",
        "outputId": "bf40f461-05d0-4274-97a4-e556e36ee417"
      },
      "source": [
        "pca = PCA(n_components=1)\r\n",
        "x_PCA = pca.fit_transform(x)\r\n",
        "pca.explained_variance_ratio_"
      ],
      "execution_count": 4,
      "outputs": [
        {
          "output_type": "execute_result",
          "data": {
            "text/plain": [
              "array([0.72842083])"
            ]
          },
          "metadata": {
            "tags": []
          },
          "execution_count": 4
        }
      ]
    },
    {
      "cell_type": "code",
      "metadata": {
        "colab": {
          "base_uri": "https://localhost:8080/"
        },
        "id": "u0RsVh2Co_Pd",
        "outputId": "aeffb812-6db4-4416-8468-ef42a9962ce4"
      },
      "source": [
        "outliers = []\r\n",
        "threshold = 3\r\n",
        "mean = np.mean(x_PCA)\r\n",
        "std = np.std(x_PCA)\r\n",
        "\r\n",
        "for i in x_PCA:\r\n",
        "  z_score = (i - mean)/std\r\n",
        "  if np.abs(z_score) > threshold:\r\n",
        "    outliers.append(i)\r\n",
        "print(outliers)"
      ],
      "execution_count": 5,
      "outputs": [
        {
          "output_type": "stream",
          "text": [
            "[array([24.85079835]), array([10.97876684]), array([11.04977383]), array([19.57754477]), array([10.69126648]), array([15.48666731]), array([11.09353008]), array([13.53813125]), array([15.0188081]), array([13.69125974]), array([13.26188211]), array([10.58447096]), array([13.4109297]), array([17.13365362]), array([12.49725842]), array([14.99279074]), array([12.16044072]), array([18.96273262]), array([11.88008055]), array([10.71823788]), array([12.40280864]), array([11.6628455]), array([11.33517381]), array([12.15524895]), array([12.73391771]), array([11.24312609]), array([13.09116589]), array([11.0631371]), array([18.4674778]), array([11.26475584]), array([12.83648479]), array([11.93595952]), array([11.61488953]), array([14.68153274]), array([19.77404942]), array([13.36283988]), array([11.33686985]), array([11.37507708]), array([11.98760208]), array([12.05412256]), array([26.35381283]), array([22.36471327]), array([11.52632697]), array([11.45917181]), array([18.23161812]), array([11.91255922]), array([13.04845867]), array([11.5776115]), array([14.08132038]), array([22.53305998]), array([16.44079765]), array([19.69199093]), array([16.09351802]), array([13.13222597]), array([16.8323286]), array([13.17650115]), array([12.14407278]), array([13.48366855]), array([13.18665629]), array([15.31282738]), array([16.94491316]), array([12.5424919]), array([14.98524378]), array([11.9427347]), array([19.19378023]), array([11.7220831]), array([12.88621218]), array([14.13199016]), array([14.30498318]), array([10.85033011]), array([10.69650007]), array([11.12096556]), array([16.71990601]), array([15.92171215]), array([14.63875149])]\n"
          ],
          "name": "stdout"
        }
      ]
    },
    {
      "cell_type": "code",
      "metadata": {
        "colab": {
          "base_uri": "https://localhost:8080/"
        },
        "id": "3MQ5VC5o5gf3",
        "outputId": "7871a609-5e11-4049-e817-c50ecfd9b9d7"
      },
      "source": [
        "outliersNames = []\r\n",
        "for i in range(len(x_PCA)):\r\n",
        "  if x_PCA[i] in outliers:\r\n",
        "    outliersNames.append(playerNames[i])\r\n",
        "print(outliersNames)"
      ],
      "execution_count": 6,
      "outputs": [
        {
          "output_type": "stream",
          "text": [
            "['Kareem Abdul-jabbar', 'Alvan Adams', 'Mark Aguirre', 'Charles Barkley', 'Walt Bellamy', 'Larry Bird', 'Mookie Blaylock', 'Tom Chambers', 'Wilt Chamberlain', 'Terry Cummings', 'Adrian Dantley', 'Walter Davis', 'Vlade Divac', 'Clyde Drexler', 'Dale Ellis', 'Alex English', 'Julius Erving', 'Patrick Ewing', 'Kevin Garnett', 'George Gervin', 'Artis Gilmore', 'Horace Grant', 'A.c. Green', 'Tim Hardaway', 'Derek Harper', 'Ron Harper', 'John Havlicek', 'Hersey Hawkins', 'Elvin Hayes', 'Jeff Hornacek', 'Mark Jackson', 'Dennis Johnson', 'Eddie Johnson', 'Magic Johnson', 'Michael Jordan', 'Shawn Kemp', 'Jason Kidd', 'Bernard King', 'Bill Laimbeer', 'Bob Lanier', 'Karl Malone', 'Moses Malone', 'Bob Mcadoo', 'Kevin Mchale', 'Reggie Miller', 'Chris Mullin', 'Dikembe Mutombo', 'Larry Nance', 'Charles Oakley', 'Hakeem Olajuwon', \"Shaquille O'neal\", 'Robert Parish', 'Gary Payton', 'Sam Perkins', 'Scottie Pippen', 'Terry Porter', 'Glen Rice', 'Mitch Richmond', 'Oscar Robertson', 'Clifford Robinson', 'David Robinson', 'Detlef Schrempf', 'Jack Sikma', 'Latrell Sprewell', 'John Stockton', 'Rod Strickland', 'Reggie Theus', 'Isiah Thomas', 'Otis Thorpe', 'Antoine Walker', 'Chris Webber', 'Jerry West', 'Dominique Wilkins', 'Buck Williams', 'Kevin Willis']\n"
          ],
          "name": "stdout"
        }
      ]
    },
    {
      "cell_type": "code",
      "metadata": {
        "id": "JZM5Ck5t7FPy"
      },
      "source": [
        "dfResults = pd.DataFrame(outliersNames)\r\n",
        "dfResults.to_csv('Outliers_zScorePCA_Season.csv', index=False)"
      ],
      "execution_count": 7,
      "outputs": []
    },
    {
      "cell_type": "code",
      "metadata": {
        "id": "YSJkwpAMBW40"
      },
      "source": [
        ""
      ],
      "execution_count": null,
      "outputs": []
    }
  ]
}