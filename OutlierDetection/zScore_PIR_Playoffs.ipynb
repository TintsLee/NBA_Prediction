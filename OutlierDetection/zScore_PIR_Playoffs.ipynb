{
  "nbformat": 4,
  "nbformat_minor": 0,
  "metadata": {
    "colab": {
      "name": "zScore_PIR_Playoffs.ipynb",
      "provenance": []
    },
    "kernelspec": {
      "name": "python3",
      "display_name": "Python 3"
    }
  },
  "cells": [
    {
      "cell_type": "code",
      "metadata": {
        "id": "nJSt7y5FrSGK"
      },
      "source": [
        "import pandas as pd\r\n",
        "from sklearn.preprocessing import StandardScaler\r\n",
        "from sklearn.decomposition import PCA\r\n",
        "import numpy as np"
      ],
      "execution_count": 1,
      "outputs": []
    },
    {
      "cell_type": "code",
      "metadata": {
        "id": "O_HAvNvtr6AO"
      },
      "source": [
        "data = pd.read_csv(\"/content/drive/MyDrive/player_playoffs_career.csv\")\r\n",
        "playerNames = data['firstname'].map(str) + ' ' + data['lastname'].map(str)\r\n",
        "PIR = (data[\"pts\"]+data['reb']+data['asts']+data['stl']+data['blk']+data['pf'])-((data['fga']-data['fgm'])+(data['fta']-data['ftm'])+data['turnover']+data['dreb']+0)"
      ],
      "execution_count": 2,
      "outputs": []
    },
    {
      "cell_type": "code",
      "metadata": {
        "colab": {
          "base_uri": "https://localhost:8080/"
        },
        "id": "RC8Bmiu9tCQo",
        "outputId": "053b96c1-cdd6-4727-d816-127a31a759e2"
      },
      "source": [
        "outliers = []\r\n",
        "threshold = 3\r\n",
        "mean = np.mean(PIR)\r\n",
        "std = np.std(PIR)\r\n",
        "\r\n",
        "for i in PIR:\r\n",
        "  z_score = (i - mean)/std\r\n",
        "  if np.abs(z_score) > threshold:\r\n",
        "    outliers.append(i)\r\n",
        "print(outliers)"
      ],
      "execution_count": 3,
      "outputs": [
        {
          "output_type": "stream",
          "text": [
            "[6674, 2928, 4307, 3977, 2349, 2547, 6422, 2502, 2349, 2549, 2542, 3007, 3175, 2381, 3256, 2544, 2614, 2660, 4264, 2879, 2285, 2549, 2319, 3379, 5179, 2817, 5231, 3895, 3356, 2359, 3905, 4041, 3052, 2787, 3851, 2638, 2357, 6312, 2504, 2310, 2697, 3749, 2445, 3217, 4605, 2829]\n"
          ],
          "name": "stdout"
        }
      ]
    },
    {
      "cell_type": "code",
      "metadata": {
        "colab": {
          "base_uri": "https://localhost:8080/"
        },
        "id": "v3BIdOUu-CLp",
        "outputId": "09d7ff80-2693-4038-e292-86148805a9b8"
      },
      "source": [
        "outliersNames = []\r\n",
        "for i in range(len(PIR)):\r\n",
        "  if PIR[i] in outliers:\r\n",
        "    outliersNames.append(playerNames[i])\r\n",
        "print(outliersNames)"
      ],
      "execution_count": 4,
      "outputs": [
        {
          "output_type": "stream",
          "text": [
            "['Kareem Abdul-jabbar', 'Charles Barkley', 'Elgin Baylor', 'Larry Bird', 'Bill Bridges', 'Rogera Brown', 'Wilt Chamberlain', 'Maurice Cheeks', 'Bob Cousy', 'Dave Cowens', 'Bob Dandridge', 'Mel Daniels', 'Clyde Drexler', 'Tim Duncan', 'Julius Erving', 'Patrick Ewing', 'Walt Frazier', 'Horace Grant', 'John Havlicek', 'Elvin Hayes', 'Tom Heinsohn', 'Robert Horry', 'Dan Issel', 'Dennis Johnson', 'Magic Johnson', 'Sam Jones', 'Michael Jordan', 'Karl Malone', 'Kevin Mchale', 'Reggie Miller', 'Hakeem Olajuwon', \"Shaquille O'neal\", 'Robert Parish', 'Bob Pettit', 'Scottie Pippen', 'Oscar Robertson', 'David Robinson', 'Bill Russell', 'Dolph Schayes', 'Byron Scott', 'Paul Silas', 'John Stockton', 'Isiah Thomas', 'Wes Unseld', 'Jerry West', 'James Worthy']\n"
          ],
          "name": "stdout"
        }
      ]
    },
    {
      "cell_type": "code",
      "metadata": {
        "id": "H6bFzpet-LHz"
      },
      "source": [
        "dfResults = pd.DataFrame(outliersNames)\r\n",
        "dfResults.to_csv('Outliers_zScorePIR_Playoffs.csv', index=False)"
      ],
      "execution_count": 5,
      "outputs": []
    },
    {
      "cell_type": "code",
      "metadata": {
        "id": "zMKH10Mz_sqq"
      },
      "source": [
        ""
      ],
      "execution_count": null,
      "outputs": []
    }
  ]
}